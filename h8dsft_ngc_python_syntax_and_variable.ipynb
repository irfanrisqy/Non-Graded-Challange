{
 "cells": [
  {
   "cell_type": "markdown",
   "metadata": {},
   "source": [
    "# Task #1\n",
    "Given list of customer_id that doing transaction in 1 day:\n",
    "\n",
    "customer_id = ['B818', 'A461', 'A092', 'A082', 'B341', 'A005', 'A092', 'A461','B219', \n",
    "               'B904', 'A901', 'A083', 'B904', 'A092', 'B341', 'B821','B341', 'B821', 'B904', 'B818', 'A901', 'A083', 'B818', 'A082','B219', 'B219', 'A083', 'A901', 'A082', 'B341', 'B341', 'A083','A082', 'B219', 'B439', 'A461', 'A005', 'A901', 'B341', 'A082','A083', 'A461', 'A083', 'A901', 'A461', 'A083', 'A082', 'A083','B341', 'A901', 'A082', 'A461', 'B219', 'A083', 'B818', 'B821','A092', 'B341', 'A461', 'A092', 'A083', 'B821', 'A092']\n",
    "\n",
    "How many unique customer_id from above list?\n"
   ]
  },
  {
   "cell_type": "code",
   "execution_count": 19,
   "metadata": {},
   "outputs": [
    {
     "name": "stdout",
     "output_type": "stream",
     "text": [
      "12\n"
     ]
    }
   ],
   "source": [
    "customer_id = ['B818', 'A461', 'A092', 'A082', 'B341', 'A005', 'A092', 'A461','B219', 'B904', 'A901', \n",
    "               'A083', 'B904', 'A092', 'B341', 'B821','B341', 'B821', 'B904', 'B818', 'A901', 'A083', 'B818', 'A082','B219', \n",
    "               'B219', 'A083', 'A901', 'A082', 'B341', 'B341', 'A083','A082', 'B219', 'B439', 'A461', 'A005', 'A901', 'B341', \n",
    "               'A082','A083', 'A461', 'A083', 'A901', 'A461', 'A083', 'A082', 'A083','B341', 'A901', 'A082', 'A461', 'B219', \n",
    "               'A083', 'B818', 'B821','A092', 'B341', 'A461', 'A092', 'A083', 'B821', 'A092']\n",
    "num_values = len(set(customer_id))\n",
    "print(num_values)"
   ]
  },
  {
   "cell_type": "markdown",
   "metadata": {},
   "source": [
    "# Task #2\n",
    "\n",
    "Given list of:\n",
    "\n",
    "Data = [1, 4, 9, 16, 25, 36, 49,  64, 81, 100]\n",
    "\n",
    "Use indexing so you can get this output:\n",
    "\n",
    "a.16\n",
    "\n",
    "b.[36, 49, 64, 81]\n",
    "\n",
    "c.[100, 81, 64, 49, 36, 25, 16, 9, 4, 1]\n"
   ]
  },
  {
   "cell_type": "code",
   "execution_count": 26,
   "metadata": {},
   "outputs": [
    {
     "name": "stdout",
     "output_type": "stream",
     "text": [
      "16\n",
      "[36, 49, 64, 81]\n",
      "[100, 81, 64, 49, 36, 25, 16, 9, 4, 1]\n"
     ]
    }
   ],
   "source": [
    "Data = [1, 4, 9, 16, 25, 36, 49,  64, 81, 100]\n",
    "print(Data[3])\n",
    "print(Data[5:9])\n",
    "print(Data[::-1])\n"
   ]
  },
  {
   "cell_type": "markdown",
   "metadata": {},
   "source": [
    "# Task #3\n",
    "Given a dictionary of: \n",
    "provinsi = {'Nanggroe Aceh Darussalam': 'Aceh','Sumatera Selatan': 'Palembang',\n",
    "'Kalimantan Barat': 'Pontianak',\n",
    "'Jawa Timur': 'Madiun',\n",
    "'Sulawesi Selatan': 'Makassar',\n",
    "'Maluku': 'Ambon'}\n",
    "\n",
    "What python command can be use to:\n",
    "\n",
    "a.Get list of keys available in dictionary\n",
    "\n",
    "b.Change 'Jawa Timur' value from 'Madiun'  to 'Surabaya'"
   ]
  },
  {
   "cell_type": "code",
   "execution_count": 35,
   "metadata": {},
   "outputs": [
    {
     "name": "stdout",
     "output_type": "stream",
     "text": [
      "['Nanggroe Aceh Darussalam', 'Sumatera Selatan', 'Kalimantan Barat', 'Jawa Timur', 'Sulawesi Selatan', 'Maluku']\n"
     ]
    },
    {
     "data": {
      "text/plain": [
       "{'Nanggroe Aceh Darussalam': 'Aceh',\n",
       " 'Sumatera Selatan': 'Palembang',\n",
       " 'Kalimantan Barat': 'Pontianak',\n",
       " 'Jawa Timur': 'Surabaya',\n",
       " 'Sulawesi Selatan': 'Makassar',\n",
       " 'Maluku': 'Ambon'}"
      ]
     },
     "execution_count": 35,
     "metadata": {},
     "output_type": "execute_result"
    }
   ],
   "source": [
    "provinsi = {\n",
    "    'Nanggroe Aceh Darussalam': 'Aceh',\n",
    "    'Sumatera Selatan': 'Palembang',\n",
    "    'Kalimantan Barat': 'Pontianak',\n",
    "    'Jawa Timur': 'Madiun',\n",
    "    'Sulawesi Selatan': 'Makassar',\n",
    "    'Maluku': 'Ambon'\n",
    "    }\n",
    "keys_list = list(provinsi.keys())\n",
    "print(keys_list)\n",
    "\n",
    "provinsi['Jawa Timur'] = 'Surabaya'\n",
    "provinsi\n"
   ]
  },
  {
   "cell_type": "markdown",
   "metadata": {},
   "source": [
    "# Done"
   ]
  }
 ],
 "metadata": {
  "kernelspec": {
   "display_name": "base",
   "language": "python",
   "name": "python3"
  },
  "language_info": {
   "codemirror_mode": {
    "name": "ipython",
    "version": 3
   },
   "file_extension": ".py",
   "mimetype": "text/x-python",
   "name": "python",
   "nbconvert_exporter": "python",
   "pygments_lexer": "ipython3",
   "version": "3.9.17"
  },
  "orig_nbformat": 4
 },
 "nbformat": 4,
 "nbformat_minor": 2
}
